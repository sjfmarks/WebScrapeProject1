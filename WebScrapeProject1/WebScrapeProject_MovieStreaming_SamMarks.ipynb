{
 "cells": [
  {
   "cell_type": "code",
   "execution_count": 1,
   "metadata": {
    "slideshow": {
     "slide_type": "skip"
    }
   },
   "outputs": [],
   "source": [
    "## PREP THE DATA\n",
    "# 0. import packages\n",
    "import pandas as pd\n",
    "import numpy as np\n",
    "import matplotlib\n",
    "from matplotlib import pyplot as plt\n",
    "import re\n",
    "import seaborn as sns\n",
    "\n",
    "%matplotlib inline"
   ]
  },
  {
   "cell_type": "code",
   "execution_count": 2,
   "metadata": {
    "slideshow": {
     "slide_type": "skip"
    }
   },
   "outputs": [],
   "source": [
    "# 2. create 3 datasets: hulu, amazon, netflix\n",
    "netflix_all = pd.read_csv(\"netflix_dataset.csv\")\n",
    "amazon_all = pd.read_csv(\"amazon_dataset.csv\")\n",
    "hulu_all = pd.read_csv(\"hulu_dataset.csv\")\n",
    "\n",
    "netflix_all = netflix_all.drop(columns=['Unnamed: 0', 'Unnamed: 0.1', 'Position'], axis=1)\n",
    "amazon_all = amazon_all.drop(columns=['Unnamed: 0', 'Unnamed: 0.1', 'Position'], axis=1)\n",
    "hulu_all = hulu_all.drop(columns=['Unnamed: 0', 'Unnamed: 0.1', 'Position'], axis=1)"
   ]
  },
  {
   "cell_type": "code",
   "execution_count": 3,
   "metadata": {
    "slideshow": {
     "slide_type": "skip"
    }
   },
   "outputs": [],
   "source": [
    "# 3. create 1 dataset: all movies non-duplicates\n",
    "all_listed = [netflix_all, amazon_all, hulu_all]\n",
    "\n",
    "all_titles = pd.concat(all_listed, ignore_index=True)\n",
    "all_titles_deDupe = all_titles.drop([\"Genre\"], axis=1).drop_duplicates()\n",
    "all_titles_noMissing = all_titles.drop([\"Genre\"], axis=1).drop_duplicates()\n",
    "netflix_deDupe = all_titles_deDupe[all_titles_deDupe[\"Service\"] == \"netflix\"]\n",
    "amazon_deDupe = all_titles_deDupe[all_titles_deDupe[\"Service\"] == \"amazon\"]\n",
    "hulu_deDupe = all_titles_deDupe[all_titles_deDupe[\"Service\"] == \"hulu\"]\n",
    "overall_means = all_titles.groupby(by=all_titles[\"Service\"]).mean()\n",
    "overall_medians = all_titles.groupby(by=all_titles[\"Service\"]).median()\n",
    "\n",
    "# genre tables for plotting\n",
    "action = all_titles[all_titles[\"Genre\"] == \"action\"]\n",
    "comedy = all_titles[all_titles[\"Genre\"] == \"comedy\"]\n",
    "documentary = all_titles[all_titles[\"Genre\"] == \"documentary\"]\n",
    "drama = all_titles[all_titles[\"Genre\"] == \"drama\"]\n",
    "family = all_titles[all_titles[\"Genre\"] == \"family\"]\n",
    "horror = all_titles[all_titles[\"Genre\"] == \"horror\"]\n",
    "romance = all_titles[all_titles[\"Genre\"] == \"romance\"]\n",
    "scifi = all_titles[all_titles[\"Genre\"] == \"scifi\"]\n",
    "thriller = all_titles[all_titles[\"Genre\"] == \"thriller\"]\n",
    "\n",
    "# RottenTomatoes 75% datasets\n",
    "all_titles_rt75 = all_titles[all_titles[\"RottenTomatoes\"] >= 0.75]\n",
    "action_rt75 = action[action[\"RottenTomatoes\"] >= 0.75]\n",
    "comedy_rt75 = comedy[comedy[\"RottenTomatoes\"] >= 0.75]\n",
    "documentary_rt75 = documentary[documentary[\"RottenTomatoes\"] >= 0.75]\n",
    "drama_rt75 = drama[drama[\"RottenTomatoes\"] >= 0.75]\n",
    "family_rt75 = family[family[\"RottenTomatoes\"] >= 0.75]\n",
    "horror_rt75 = horror[horror[\"RottenTomatoes\"] >= 0.75]\n",
    "romance_rt75 = romance[romance[\"RottenTomatoes\"] >= 0.75]\n",
    "scifi_rt75 = scifi[scifi[\"RottenTomatoes\"] >= 0.75]\n",
    "thriller_rt75 = thriller[thriller[\"RottenTomatoes\"] >= 0.75]\n"
   ]
  },
  {
   "cell_type": "markdown",
   "metadata": {
    "slideshow": {
     "slide_type": "slide"
    }
   },
   "source": [
    "# Introduction\n",
    "\n",
    "### For my project, I scraped critic ratings (Rotten Tomatoes) and audience ratings (IMDb) for all movies currently streaming on:\n",
    "1. Netflix\n",
    "2. Amazon Prime\n",
    "3. Hulu\n",
    "<br><br>\n",
    "<i>Scraping method: Selenium</i><br>\n",
    "<i>Source: reelgood.com</i>\n",
    "<br>"
   ]
  },
  {
   "cell_type": "markdown",
   "metadata": {
    "slideshow": {
     "slide_type": "subslide"
    }
   },
   "source": [
    "# Questions I wanted to answer...\n",
    "<br>\n",
    "##### 1. Which streaming service provides the most movie content for your money?\n",
    "<br>\n",
    "##### 2. Which service has the most quality movie content overall?\n",
    "<br>\n",
    "##### 3. Which service has the most quality movie content per genre?\n",
    "<br>"
   ]
  },
  {
   "cell_type": "markdown",
   "metadata": {
    "slideshow": {
     "slide_type": "slide"
    }
   },
   "source": [
    "# Quantitative Analysis: \n",
    "# Which streaming service has the most movie content in their inventory?\n",
    "<br><br>\n",
    "#### ... Any guesses?\n",
    "<br>"
   ]
  },
  {
   "cell_type": "markdown",
   "metadata": {
    "slideshow": {
     "slide_type": "slide"
    }
   },
   "source": [
    "# Total Movie Inventory by Service"
   ]
  },
  {
   "cell_type": "code",
   "execution_count": 5,
   "metadata": {
    "scrolled": true,
    "slideshow": {
     "slide_type": "fragment"
    }
   },
   "outputs": [
    {
     "data": {
      "text/plain": [
       "<matplotlib.axes._subplots.AxesSubplot at 0x1a18116f60>"
      ]
     },
     "execution_count": 5,
     "metadata": {},
     "output_type": "execute_result"
    },
    {
     "data": {
      "image/png": "[encoded data removed]",
      "text/plain": [
       "<matplotlib.figure.Figure at 0x1113fa898>"
      ]
     },
     "metadata": {},
     "output_type": "display_data"
    }
   ],
   "source": [
    "# total movie count by service\n",
    "all_titles_noMissing[\"Title\"].groupby(by=all_titles_noMissing[\"Service\"]).count().plot.bar()"
   ]
  },
  {
   "cell_type": "markdown",
   "metadata": {
    "slideshow": {
     "slide_type": "fragment"
    }
   },
   "source": [
    "### - Amazon Prime has more than double the inventory of Netflix's movie library, and nearly 6x Hulu's!"
   ]
  },
  {
   "cell_type": "markdown",
   "metadata": {
    "slideshow": {
     "slide_type": "slide"
    }
   },
   "source": [
    "# Quantitative Analysis: \n",
    "# What is the distribution of content by genre for each streaming service?\n",
    "<br>"
   ]
  },
  {
   "cell_type": "markdown",
   "metadata": {
    "slideshow": {
     "slide_type": "slide"
    }
   },
   "source": [
    "# Amazon Prime"
   ]
  },
  {
   "cell_type": "code",
   "execution_count": 19,
   "metadata": {
    "scrolled": false,
    "slideshow": {
     "slide_type": "fragment"
    }
   },
   "outputs": [
    {
     "data": {
      "text/plain": [
       "Text(0.5,1,'Amazon Movie Inventory by Genre')"
      ]
     },
     "execution_count": 19,
     "metadata": {},
     "output_type": "execute_result"
    },
    {
     "data": {
      "image/png": "[encoded data removed]",
      "text/plain": [
       "<matplotlib.figure.Figure at 0x1a176c0fd0>"
      ]
     },
     "metadata": {},
     "output_type": "display_data"
    }
   ],
   "source": [
    "# amazon movie count by service broken down by genre\n",
    "amazon_genre_bars = amazon_all[\"Title\"].groupby(by=amazon_all[\"Genre\"]).count().sort_values().plot.barh()\n",
    "plt.title(\"Amazon Movie Inventory by Genre\")"
   ]
  },
  {
   "cell_type": "markdown",
   "metadata": {
    "slideshow": {
     "slide_type": "slide"
    }
   },
   "source": [
    "# Netflix"
   ]
  },
  {
   "cell_type": "code",
   "execution_count": 21,
   "metadata": {
    "slideshow": {
     "slide_type": "fragment"
    }
   },
   "outputs": [
    {
     "data": {
      "text/plain": [
       "Text(0.5,1,'Netflix Movie Inventory by Genre')"
      ]
     },
     "execution_count": 21,
     "metadata": {},
     "output_type": "execute_result"
    },
    {
     "data": {
      "image/png": "[encoded data removed]",
      "text/plain": [
       "<matplotlib.figure.Figure at 0x1a1a8fdc88>"
      ]
     },
     "metadata": {},
     "output_type": "display_data"
    }
   ],
   "source": [
    "netflix_all[\"Title\"].groupby(by=netflix_all[\"Genre\"]).count().sort_values().plot.barh()\n",
    "plt.title(\"Netflix Movie Inventory by Genre\")"
   ]
  },
  {
   "cell_type": "markdown",
   "metadata": {
    "slideshow": {
     "slide_type": "fragment"
    }
   },
   "source": [
    "### - All three services load their libraries with dramas and comedies<br>\n",
    "### - Netflix's library has large proportion of documentaries relative to the other services, but Amazon Prime still has more than double the documentaries of Netflix"
   ]
  },
  {
   "cell_type": "markdown",
   "metadata": {
    "slideshow": {
     "slide_type": "slide"
    }
   },
   "source": [
    "# Hulu"
   ]
  },
  {
   "cell_type": "code",
   "execution_count": 23,
   "metadata": {
    "scrolled": true,
    "slideshow": {
     "slide_type": "fragment"
    }
   },
   "outputs": [
    {
     "data": {
      "text/plain": [
       "Text(0.5,1,'Hulu Movie Inventory by Genre')"
      ]
     },
     "execution_count": 23,
     "metadata": {},
     "output_type": "execute_result"
    },
    {
     "data": {
      "image/png": "[encoded data removed]",
      "text/plain": [
       "<matplotlib.figure.Figure at 0x1a1766c978>"
      ]
     },
     "metadata": {},
     "output_type": "display_data"
    }
   ],
   "source": [
    "# hulu movie count by service broken down by genre\n",
    "hulu_all[\"Title\"].groupby(by=hulu_all[\"Genre\"]).count().sort_values().plot.barh()\n",
    "plt.title(\"Hulu Movie Inventory by Genre\")"
   ]
  },
  {
   "cell_type": "markdown",
   "metadata": {
    "slideshow": {
     "slide_type": "slide"
    }
   },
   "source": [
    "# Qualitative Analysis:\n",
    "# Is there a significant difference in the quality of each service's movie content? \n",
    "<br>\n",
    "### Boxplots: Audience rating distributions by streaming service <br>\n",
    "### Box charts: Count of Rotten Tomato ratings above 75% for each service\n",
    "<i> * Rotten Tomatoes labels Movies and TV shows \"Certified Fresh\" with a steady Tomatometer of 75% or higher after a set amount of reviews</i>\n",
    "<br><br>\n",
    "First, let's look at the overall content based on Rotten Tomato and IMDb ratings...\n",
    "<br>"
   ]
  },
  {
   "cell_type": "markdown",
   "metadata": {
    "slideshow": {
     "slide_type": "slide"
    }
   },
   "source": [
    "# IMDb Ratings (Overall)"
   ]
  },
  {
   "cell_type": "code",
   "execution_count": 4,
   "metadata": {
    "slideshow": {
     "slide_type": "fragment"
    }
   },
   "outputs": [
    {
     "name": "stdout",
     "output_type": "stream",
     "text": [
      "                Year      IMDb\n",
      "Service                       \n",
      "amazon   1999.017729  0.580676\n",
      "hulu     2008.203802  0.611740\n",
      "netflix  2011.557072  0.635365\n"
     ]
    },
    {
     "data": {
      "image/png": "[encoded data removed]",
      "text/plain": [
       "<matplotlib.figure.Figure at 0x1a0aa8c8d0>"
      ]
     },
     "metadata": {},
     "output_type": "display_data"
    }
   ],
   "source": [
    "sns.boxplot(x = \"Service\", y=\"IMDb\", data=all_titles_noMissing)\n",
    "plt.title(\"IMDb Rating Distribution\")\n",
    "print(all_titles_noMissing.drop([\"RottenTomatoes\"], axis=1).groupby(\"Service\").mean())"
   ]
  },
  {
   "cell_type": "markdown",
   "metadata": {
    "slideshow": {
     "slide_type": "fragment"
    }
   },
   "source": [
    "### Netflix has the highest quality movie content overall, according to IMBb users."
   ]
  },
  {
   "cell_type": "markdown",
   "metadata": {
    "slideshow": {
     "slide_type": "slide"
    }
   },
   "source": [
    "# Rotten Tomato Ratings (Overall)"
   ]
  },
  {
   "cell_type": "code",
   "execution_count": 16,
   "metadata": {
    "scrolled": true,
    "slideshow": {
     "slide_type": "fragment"
    }
   },
   "outputs": [
    {
     "name": "stdout",
     "output_type": "stream",
     "text": [
      "             IMDb  RottenTomatoes\n",
      "Service                          \n",
      "amazon   0.580676        0.626676\n",
      "hulu     0.611740        0.611698\n",
      "netflix  0.635365        0.661669\n"
     ]
    },
    {
     "data": {
      "image/png": "[encoded data removed]",
      "text/plain": [
       "<matplotlib.figure.Figure at 0x1a170ac748>"
      ]
     },
     "metadata": {},
     "output_type": "display_data"
    }
   ],
   "source": [
    "sns.boxplot(x = \"Service\", y=\"RottenTomatoes\", data=all_titles_noMissing)\n",
    "plt.title(\"Rotten Tomato Rating Distributions\")\n",
    "print(all_titles_noMissing.drop(\"Year\", axis=1).groupby(\"Service\").mean())"
   ]
  },
  {
   "cell_type": "markdown",
   "metadata": {
    "slideshow": {
     "slide_type": "fragment"
    }
   },
   "source": [
    "#### Critics and viewers agree: Netflix has the highest quality movie content of the bunch."
   ]
  },
  {
   "cell_type": "code",
   "execution_count": 7,
   "metadata": {
    "scrolled": true,
    "slideshow": {
     "slide_type": "subslide"
    }
   },
   "outputs": [
    {
     "data": {
      "text/plain": [
       "Text(0.5,1,'Title Count of Rotten Tomato Scores >= 75%')"
      ]
     },
     "execution_count": 7,
     "metadata": {},
     "output_type": "execute_result"
    },
    {
     "data": {
      "image/png": "[encoded data removed]",
      "text/plain": [
       "<matplotlib.figure.Figure at 0x1a16dff320>"
      ]
     },
     "metadata": {},
     "output_type": "display_data"
    }
   ],
   "source": [
    "all_titles_rt75[\"Title\"].groupby(by=all_titles_rt75[\"Service\"]).count().sort_values().plot.barh()\n",
    "plt.title(\"Title Count of Rotten Tomato Scores >= 75%\")"
   ]
  },
  {
   "cell_type": "markdown",
   "metadata": {
    "slideshow": {
     "slide_type": "fragment"
    }
   },
   "source": [
    "#### - 20% of Amazon Prime's movie library is rated 75% or better on Rotten Tomatoes \n",
    "#### - 43% of Netflix's movie library is rated 75% or better on Rotten Tomatoes**\n",
    "#### - 44% of Hulu's movie library is rated 75% or better on Rotten Tomatoes\n"
   ]
  },
  {
   "cell_type": "markdown",
   "metadata": {
    "slideshow": {
     "slide_type": "slide"
    }
   },
   "source": [
    "# Action"
   ]
  },
  {
   "cell_type": "code",
   "execution_count": 5,
   "metadata": {
    "slideshow": {
     "slide_type": "fragment"
    }
   },
   "outputs": [
    {
     "name": "stdout",
     "output_type": "stream",
     "text": [
      "                Year      IMDb\n",
      "Service                       \n",
      "amazon   1991.303167  0.537436\n",
      "hulu     2005.739683  0.589135\n",
      "netflix  2010.794948  0.604911\n"
     ]
    },
    {
     "data": {
      "image/png": "[encoded data removed]",
      "text/plain": [
       "<matplotlib.figure.Figure at 0x1a0acc3710>"
      ]
     },
     "metadata": {},
     "output_type": "display_data"
    }
   ],
   "source": [
    "sns.boxplot(x = \"Service\", y = \"IMDb\", data= action)\n",
    "plt.title(\"Action Movie IMDb Rating Distributions\")\n",
    "print(action.drop([\"RottenTomatoes\"], axis=1).groupby(\"Service\").mean())"
   ]
  },
  {
   "cell_type": "code",
   "execution_count": 8,
   "metadata": {
    "slideshow": {
     "slide_type": "subslide"
    }
   },
   "outputs": [
    {
     "name": "stdout",
     "output_type": "stream",
     "text": [
      "         Title\n",
      "Service       \n",
      "amazon    1989\n",
      "hulu       315\n",
      "netflix    673\n"
     ]
    },
    {
     "data": {
      "image/png": "[encoded data removed]",
      "text/plain": [
       "<matplotlib.figure.Figure at 0x1a0b599898>"
      ]
     },
     "metadata": {},
     "output_type": "display_data"
    }
   ],
   "source": [
    "action_rt75[\"Title\"].groupby(by=action_rt75[\"Service\"]).count().sort_values().plot.barh()\n",
    "plt.title(\"Action Movies >= 75% on Rotten Tomato\")\n",
    "print(all_titles[all_titles[\"Genre\"]==\"action\"].drop([\"IMDb\",\"RottenTomatoes\",\"Year\",\"Genre\"], axis=1).groupby(\"Service\").count())"
   ]
  },
  {
   "cell_type": "markdown",
   "metadata": {
    "slideshow": {
     "slide_type": "slide"
    }
   },
   "source": [
    "# Horror"
   ]
  },
  {
   "cell_type": "code",
   "execution_count": 9,
   "metadata": {
    "slideshow": {
     "slide_type": "fragment"
    }
   },
   "outputs": [
    {
     "name": "stdout",
     "output_type": "stream",
     "text": [
      "                Year      IMDb\n",
      "Service                       \n",
      "amazon   2000.858305  0.444263\n",
      "hulu     2009.862275  0.500361\n",
      "netflix  2013.305677  0.521667\n"
     ]
    },
    {
     "data": {
      "image/png": "[encoded data removed]",
      "text/plain": [
       "<matplotlib.figure.Figure at 0x1a0aafe2b0>"
      ]
     },
     "metadata": {},
     "output_type": "display_data"
    }
   ],
   "source": [
    "sns.boxplot(x = \"Service\", y = \"IMDb\", data= horror)\n",
    "plt.title(\"Horror Movie IMDb Rating Distributions\")\n",
    "print(horror.drop([\"RottenTomatoes\"], axis=1).groupby(\"Service\").mean())"
   ]
  },
  {
   "cell_type": "code",
   "execution_count": 9,
   "metadata": {
    "scrolled": true,
    "slideshow": {
     "slide_type": "subslide"
    }
   },
   "outputs": [
    {
     "name": "stdout",
     "output_type": "stream",
     "text": [
      "         Title\n",
      "Service       \n",
      "amazon    1475\n",
      "hulu       167\n",
      "netflix    229\n"
     ]
    },
    {
     "data": {
      "image/png": "[encoded data removed]",
      "text/plain": [
       "<matplotlib.figure.Figure at 0x1a102b7ac8>"
      ]
     },
     "metadata": {},
     "output_type": "display_data"
    }
   ],
   "source": [
    "horror_rt75[\"Title\"].groupby(by=horror_rt75[\"Service\"]).count().sort_values().plot.barh()\n",
    "plt.title(\"Horror Movies >= 75% on Rotten Tomato\")\n",
    "print(all_titles[all_titles[\"Genre\"]==\"horror\"].drop([\"RottenTomatoes\",\"IMDb\",\"Year\",\"Genre\"], axis=1).groupby(\"Service\").count())"
   ]
  },
  {
   "cell_type": "markdown",
   "metadata": {
    "slideshow": {
     "slide_type": "slide"
    }
   },
   "source": [
    "# Documentary"
   ]
  },
  {
   "cell_type": "code",
   "execution_count": 11,
   "metadata": {
    "slideshow": {
     "slide_type": "fragment"
    }
   },
   "outputs": [
    {
     "name": "stdout",
     "output_type": "stream",
     "text": [
      "             IMDb\n",
      "Service          \n",
      "amazon   0.712477\n",
      "hulu     0.713770\n",
      "netflix  0.710864\n"
     ]
    },
    {
     "data": {
      "image/png": "[encoded data removed]",
      "text/plain": [
       "<matplotlib.figure.Figure at 0x1a0bcad828>"
      ]
     },
     "metadata": {},
     "output_type": "display_data"
    }
   ],
   "source": [
    "sns.boxplot(x = \"Service\", y = \"IMDb\", data= documentary)\n",
    "plt.title(\"Documentary Movie IMDb Rating Distributions\")\n",
    "print(documentary.drop([\"Year\",\"RottenTomatoes\"], axis=1).groupby(\"Service\").mean())"
   ]
  },
  {
   "cell_type": "code",
   "execution_count": 11,
   "metadata": {
    "slideshow": {
     "slide_type": "subslide"
    }
   },
   "outputs": [
    {
     "name": "stdout",
     "output_type": "stream",
     "text": [
      "         Title\n",
      "Service       \n",
      "amazon    1446\n",
      "hulu       194\n",
      "netflix    756\n"
     ]
    },
    {
     "data": {
      "image/png": "[encoded data removed]",
      "text/plain": [
       "<matplotlib.figure.Figure at 0x10b0734e0>"
      ]
     },
     "metadata": {},
     "output_type": "display_data"
    }
   ],
   "source": [
    "documentary_rt75[\"Title\"].groupby(by=documentary_rt75[\"Service\"]).count().sort_values().plot.barh()\n",
    "plt.title(\"Documentary Movies >= 75% on Rotten Tomato\")\n",
    "print(all_titles[all_titles[\"Genre\"]==\"documentary\"].drop([\"RottenTomatoes\",\"IMDb\",\"Year\",\"Genre\"], axis=1).groupby(\"Service\").count())"
   ]
  },
  {
   "cell_type": "markdown",
   "metadata": {
    "slideshow": {
     "slide_type": "slide"
    }
   },
   "source": [
    "### Conclusion and closing notes: \n",
    "\n",
    "1. Amazon has more than double the movie inventory of Netflix, and nearly 6x Hulu's inventory\n",
    "2. Critics and viewers agree: Netflix has the highest quality movie content of the bunch\n",
    "3. 43% of Netflix's movie library is rated 75% or better on Rotten Tomatoes compared to only 20% of Amazon Prime's library. Overall, they have roughly the same amount of quality movie content"
   ]
  }
 ],
 "metadata": {
  "celltoolbar": "Slideshow",
  "kernelspec": {
   "display_name": "Python 3",
   "language": "python",
   "name": "python3"
  },
  "language_info": {
   "codemirror_mode": {
    "name": "ipython",
    "version": 3
   },
   "file_extension": ".py",
   "mimetype": "text/x-python",
   "name": "python",
   "nbconvert_exporter": "python",
   "pygments_lexer": "ipython3",
   "version": "3.6.4"
  }
 },
 "nbformat": 4,
 "nbformat_minor": 2
}
